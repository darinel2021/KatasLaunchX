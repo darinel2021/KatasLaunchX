{
 "cells": [
  {
   "cell_type": "code",
   "execution_count": 21,
   "metadata": {},
   "outputs": [
    {
     "name": "stdout",
     "output_type": "stream",
     "text": [
      "ADVERTENCIA, UN ASTEROIDE ESTÁ POR ENTRAR A LA ÓRBITA TERRESTRE\n"
     ]
    }
   ],
   "source": [
    "velAsteroide = 49\n",
    "if velAsteroide > 25:\n",
    "    print('ADVERTENCIA, UN ASTEROIDE ESTÁ POR ENTRAR A LA ÓRBITA TERRESTRE')\n",
    "else:\n",
    "    print('FALSA ALARMA, PODEMOS SEGUIR VIVIENDO')"
   ]
  },
  {
   "cell_type": "code",
   "execution_count": 29,
   "metadata": {},
   "outputs": [
    {
     "name": "stdout",
     "output_type": "stream",
     "text": [
      "Sal de tu casa, ahora está pasando un rayo en el cielox  \n"
     ]
    }
   ],
   "source": [
    "velAsteroide = 20\n",
    "if velAsteroide > 20:\n",
    "    print('Sal de tu casa, ahora está pasando un rayo en el cielo')\n",
    "elif velAsteroide == 20: \n",
    "    print('Sal de tu casa, ahora está pasando un rayo en el cielo')\n",
    "else:\n",
    "    print('Podéis seguir viendo la TV')"
   ]
  },
  {
   "cell_type": "code",
   "execution_count": 65,
   "metadata": {},
   "outputs": [
    {
     "name": "stdout",
     "output_type": "stream",
     "text": [
      "CUIDADO, ASTEROIDE PUEDE IMPACTAR LA TIERRA\n"
     ]
    }
   ],
   "source": [
    "velAsteroide = 25\n",
    "dimAsteroide = 20\n",
    "if velAsteroide >= 25 and dimAsteroide >= 25:\n",
    "    print('ADVERTENCIA, UN ASTEROIDE GRANDE ESTÁ POR ENTRAR A LA ÓRBITA TERRESTRE')   \n",
    "elif velAsteroide >= 25 or dimAsteroide >= 20:\n",
    "    print('CUIDADO, ASTEROIDE PUEDE IMPACTAR LA TIERRA')\n",
    "elif velAsteroide > 20: \n",
    "    print('Sal de tu casa, ahora está pasando un rayo en el cielo')\n",
    "else:\n",
    "    print('FALSA ALARMA, PODEMOS SEGUIR VIVIENDO')\n",
    "\n"
   ]
  }
 ],
 "metadata": {
  "interpreter": {
   "hash": "8318806b5d7a44cfe1f03207c0e5f01caa88e2598391a93145c97288f9b3659f"
  },
  "kernelspec": {
   "display_name": "Python 3.10.2 64-bit",
   "language": "python",
   "name": "python3"
  },
  "language_info": {
   "codemirror_mode": {
    "name": "ipython",
    "version": 3
   },
   "file_extension": ".py",
   "mimetype": "text/x-python",
   "name": "python",
   "nbconvert_exporter": "python",
   "pygments_lexer": "ipython3",
   "version": "3.10.2"
  },
  "orig_nbformat": 4
 },
 "nbformat": 4,
 "nbformat_minor": 2
}

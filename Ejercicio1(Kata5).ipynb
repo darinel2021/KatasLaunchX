{
 "cells": [
  {
   "cell_type": "code",
   "execution_count": 13,
   "metadata": {},
   "outputs": [
    {
     "name": "stdout",
     "output_type": "stream",
     "text": [
      "La distancia entre la tierra y jupiter es: 628949330km\n",
      "La distancia entre la tierra y jupiter es: 390577533.93millas\n"
     ]
    }
   ],
   "source": [
    "#DISTANCIAS\n",
    "tierra = 149597870 #en km\n",
    "jupiter = 778547200 #en km\n",
    "distanciaEntre = jupiter - tierra\n",
    "print(\"La distancia entre la tierra y jupiter es: \" + str(distanciaEntre) + \"km\")\n",
    "distanciaMillas = distanciaEntre*0.621\n",
    "print(\"La distancia entre la tierra y jupiter es: \" + str(distanciaMillas) + \"millas\")"
   ]
  }
 ],
 "metadata": {
  "interpreter": {
   "hash": "8318806b5d7a44cfe1f03207c0e5f01caa88e2598391a93145c97288f9b3659f"
  },
  "kernelspec": {
   "display_name": "Python 3.10.2 64-bit",
   "language": "python",
   "name": "python3"
  },
  "language_info": {
   "codemirror_mode": {
    "name": "ipython",
    "version": 3
   },
   "file_extension": ".py",
   "mimetype": "text/x-python",
   "name": "python",
   "nbconvert_exporter": "python",
   "pygments_lexer": "ipython3",
   "version": "3.10.2"
  },
  "orig_nbformat": 4
 },
 "nbformat": 4,
 "nbformat_minor": 2
}
